{
 "cells": [
  {
   "cell_type": "code",
   "execution_count": 54,
   "metadata": {},
   "outputs": [
    {
     "name": "stdout",
     "output_type": "stream",
     "text": [
      "Total fully contained ranges: 485\n"
     ]
    }
   ],
   "source": [
    "# Advent of Code Day 4 Part 1\n",
    "# In how many assignment pairs does one range fully contain the other?\n",
    "res = 0\n",
    "\n",
    "with open(\"aoc_04_input.txt\") as f:\n",
    "    lines = f.readlines()\n",
    "    \n",
    "for pair in [line[:-1].split(\",\") for line in lines]:\n",
    "    nums = list(map(int, pair[0].split('-') + pair[1].split('-')))\n",
    "    if (nums[0] >= nums[2] and nums[1] <= nums[3]) or (nums[0] <= nums[2] and nums[1] >= nums[3]):\n",
    "        res += 1\n",
    "print(f\"Total fully contained ranges: {res}\")\n",
    " \n",
    "\n"
   ]
  },
  {
   "cell_type": "code",
   "execution_count": 82,
   "metadata": {},
   "outputs": [
    {
     "name": "stdout",
     "output_type": "stream",
     "text": [
      "Total fully contained ranges: 485\n"
     ]
    }
   ],
   "source": [
    "# One-liner?\n",
    "with open(\"aoc_04_input.txt\") as f: print(f\"Total fully contained ranges: {sum(list(map(lambda x : (x[0] >= x[2] and x[1] <= x[3]) or (x[0] <= x[2] and x[1] >= x[3]), [[int(b) for a in line[:-1].split(',') for b in a.split('-')] for line in f.readlines()])))}\")"
   ]
  }
 ],
 "metadata": {
  "kernelspec": {
   "display_name": "Python 3.6.5 64-bit",
   "language": "python",
   "name": "python3"
  },
  "language_info": {
   "codemirror_mode": {
    "name": "ipython",
    "version": 3
   },
   "file_extension": ".py",
   "mimetype": "text/x-python",
   "name": "python",
   "nbconvert_exporter": "python",
   "pygments_lexer": "ipython3",
   "version": "3.6.5"
  },
  "orig_nbformat": 4,
  "vscode": {
   "interpreter": {
    "hash": "5e6e0c9936b56e864f646be5ee1805cdf5052e653df90de57851008508cfa8f6"
   }
  }
 },
 "nbformat": 4,
 "nbformat_minor": 2
}
