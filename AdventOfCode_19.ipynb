{
 "cells": [
  {
   "attachments": {},
   "cell_type": "markdown",
   "metadata": {},
   "source": [
    "### Day 19 - Not Enough Minerals\n",
    "##### Part 1 - Sum of Quality Levels\n",
    "\n",
    "Find the maximum number of geodes each blueprint can break open in 24 minutes. Sum up the quality level (#geodes x blueprint index) of each blueprint."
   ]
  },
  {
   "cell_type": "code",
   "execution_count": 192,
   "metadata": {},
   "outputs": [],
   "source": [
    "from collections import defaultdict\n",
    "\n",
    "cache = defaultdict()\n",
    "def dfs(timeRemaining, bots, materials, blueprint):\n",
    "    global global_best\n",
    "    global best_stats\n",
    "    k = hash((timeRemaining, bots, materials, blueprint[0])) \n",
    "    if k in cache:                                \n",
    "        return cache[k]\n",
    "    \n",
    "    if timeRemaining <= 1:           \n",
    "        return materials[3] + bots[3] * timeRemaining\n",
    "\n",
    "    # theoretical max\n",
    "    tri = ((timeRemaining-1) * (timeRemaining)) // 2\n",
    "    prune_check = materials[3] + bots[3] * timeRemaining + tri\n",
    "    if prune_check < global_best[blueprint[0] - 1]:\n",
    "        return -1 \n",
    "\n",
    "    # can we make a geodebot?\n",
    "    make_orebot, make_cbot, make_obsbot, make_gbot = True, True, True, True\n",
    "    for i, mat in enumerate(materials[:-1]):\n",
    "        if mat < blueprint[1][i]:\n",
    "            make_orebot = False\n",
    "        if mat < blueprint[2][i]:\n",
    "            make_cbot = False\n",
    "        if mat < blueprint[3][i]:\n",
    "            make_obsbot = False\n",
    "        if mat < blueprint[4][i]:\n",
    "            make_gbot = False\n",
    "            \n",
    "    best = 0\n",
    "    explored_flag = False       \n",
    "        \n",
    "    if make_gbot:\n",
    "        if bots[0] >= blueprint[4][0] and bots[2] >= blueprint[4][2]:\n",
    "            # triangle numbers - we can make a geode every turn \n",
    "            tri = ((timeRemaining) * (timeRemaining + 1)) // 2\n",
    "            return materials[3] + bots[3] * timeRemaining + tri\n",
    "\n",
    "        new_bots = tuple((bots[0], bots[1], bots[2], bots[3] + 1))\n",
    "        new_materials = tuple((materials[0] + bots[0] - blueprint[4][0], materials[1] + bots[1] - blueprint[4][1], materials[2] + bots[2] - blueprint[4][2], materials[3] + bots[3]))\n",
    "        best = dfs(timeRemaining - 1, new_bots, new_materials, blueprint)\n",
    "        explored_flag = True\n",
    "    else:\n",
    "        if make_obsbot and bots[2] < blueprint[4][2]:\n",
    "            #print(f\"Make obsidianbot\")\n",
    "            new_bots = tuple((bots[0], bots[1], bots[2] + 1, bots[3]))\n",
    "            build_materials = tuple((materials[0] + bots[0] - blueprint[3][0], materials[1] + bots[1] - blueprint[3][1], materials[2] + bots[2], materials[3] + bots[3]))\n",
    "            best = max(best, dfs(timeRemaining - 1, new_bots, build_materials, blueprint))\n",
    "\n",
    "            explored_flag = True\n",
    "        if make_cbot and bots[1] < blueprint[3][1]:\n",
    "            #print(\"Make claybot\")\n",
    "            new_bots = tuple((bots[0], bots[1]+1, bots[2], bots[3]))\n",
    "            build_materials = tuple((materials[0] + bots[0] - blueprint[2][0], materials[1] + bots[1], materials[2] + bots[2], materials[3] + bots[3]))\n",
    "            best = max(best, dfs(timeRemaining - 1, new_bots, build_materials, blueprint))\n",
    "            explored_flag = True\n",
    "        if make_orebot and (bots[0] < blueprint[4][0] or bots[0] < blueprint[3][0] or bots[0] < blueprint[2][0]):\n",
    "            #print(\"Make orebot\")\n",
    "            new_bots = tuple((bots[0]+1, bots[1], bots[2], bots[3]))\n",
    "            build_materials = tuple((materials[0] + bots[0] - blueprint[1][0], materials[1] + bots[1], materials[2] + bots[2], materials[3] + bots[3]))\n",
    "            best = max(best, dfs(timeRemaining - 1, new_bots, build_materials, blueprint))\n",
    "            explored_flag = True\n",
    "\n",
    "    new_materials = tuple((materials[0] + bots[0], materials[1] + bots[1], materials[2] + bots[2], materials[3] + bots[3]))\n",
    "    best = max(best, dfs(timeRemaining - 1, bots, new_materials, blueprint))\n",
    "\n",
    "    if best >  global_best[blueprint[0] - 1]:\n",
    "        global_best[blueprint[0] - 1] = best\n",
    "        best_stats = tuple((timeRemaining, bots, materials, blueprint))\n",
    "    cache[ hash((timeRemaining, bots, materials, blueprint[0])) ] = best\n",
    "    return best\n"
   ]
  },
  {
   "cell_type": "code",
   "execution_count": 193,
   "metadata": {},
   "outputs": [],
   "source": [
    "def get_blueprints(input_file):\n",
    "    with open(input_file) as f:\n",
    "        s = f.read().strip()\n",
    "    blueprints = []\n",
    "    for x in s.strip().split(\"\\n\") :\n",
    "        l, r = x.split(\":\")\n",
    "        idx = int(l.split(\" \")[1])\n",
    "\n",
    "        # costs are (ore, clay, obsidian)\n",
    "        oreR = tuple((int(r.split(\" costs \")[1].split(\" \")[0]), 0, 0))\n",
    "        clayR = tuple((int(r.split(\" costs \")[2].split(\" \")[0]), 0, 0))\n",
    "\n",
    "        ll, rr = r.split(\" costs \")[3].split(\" ore and \")\n",
    "        obsR = tuple((int(ll), int(rr.split(\" \")[0]) , 0))\n",
    "\n",
    "        lll, rrr = r.split(\" costs \")[4].split(\" ore and \")\n",
    "        geodeR = tuple((int(lll), 0,int(rrr.split(\" \")[0])))\n",
    "\n",
    "        blueprints.append([idx, oreR, clayR, obsR, geodeR])\n",
    "\n",
    "    return blueprints\n",
    "\n"
   ]
  },
  {
   "cell_type": "code",
   "execution_count": 194,
   "metadata": {},
   "outputs": [
    {
     "name": "stdout",
     "output_type": "stream",
     "text": [
      "Part 1: Sum of all quality levels: 960\n"
     ]
    }
   ],
   "source": [
    "# This gets the correct answer, but takes 52s to finish. Going to try to optimize this a bit after reading part 2. \n",
    "\n",
    "res = 0\n",
    "blueprints = get_blueprints(\"aoc_19_input.txt\")\n",
    "global_best = [0 for _ in range(len(blueprints))]\n",
    "for i, bp in enumerate(blueprints):\n",
    "    bp_dfs = dfs(24, (1,0,0,0), (0,0,0,0), bp)\n",
    "    quality_level = bp[0] * bp_dfs\n",
    "    res += quality_level\n",
    "print(f\"Part 1: Sum of all quality levels: {res}\")\n"
   ]
  },
  {
   "attachments": {},
   "cell_type": "markdown",
   "metadata": {},
   "source": [
    "##### Part 2 - Eaten Blueprints\n",
    "\n",
    "Find the product of the number of geodes found with the first three blueprints.\n"
   ]
  },
  {
   "cell_type": "code",
   "execution_count": 195,
   "metadata": {},
   "outputs": [
    {
     "name": "stdout",
     "output_type": "stream",
     "text": [
      "Part 2: The first three blueprints yield [30, 4, 17] after 32 seconds. Their product is: 2040\n"
     ]
    }
   ],
   "source": [
    "from functools import reduce \n",
    "\n",
    "# This takes about 43s. Not ideal, but works for now. \n",
    "\n",
    "res_part2 = []\n",
    "global_best = [0 for _ in range(len(blueprints))]\n",
    "for bp in blueprints[:3]:\n",
    "    prod_term = dfs(32, (1,0,0,0), (0,0,0,0), bp)\n",
    "    res_part2.append(prod_term)\n",
    "\n",
    "print(f\"Part 2: The first three blueprints yield {res_part2} after 32 seconds. Their product is: {reduce(lambda a,b: a*b, res_part2)}\")"
   ]
  }
 ],
 "metadata": {
  "kernelspec": {
   "display_name": "Python 3",
   "language": "python",
   "name": "python3"
  },
  "language_info": {
   "codemirror_mode": {
    "name": "ipython",
    "version": 3
   },
   "file_extension": ".py",
   "mimetype": "text/x-python",
   "name": "python",
   "nbconvert_exporter": "python",
   "pygments_lexer": "ipython3",
   "version": "3.11.1 (tags/v3.11.1:a7a450f, Dec  6 2022, 19:58:39) [MSC v.1934 64 bit (AMD64)]"
  },
  "orig_nbformat": 4,
  "vscode": {
   "interpreter": {
    "hash": "d01e1b6807cdc6c73188860b94d3a57f012fc5e069ee56fb893a142c4a2f0812"
   }
  }
 },
 "nbformat": 4,
 "nbformat_minor": 2
}
