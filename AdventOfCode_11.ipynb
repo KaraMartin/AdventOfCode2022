{
 "cells": [
  {
   "cell_type": "code",
   "execution_count": 183,
   "metadata": {},
   "outputs": [
    {
     "name": "stdout",
     "output_type": "stream",
     "text": [
      "Part 1: Current level of monkey business after    20 rounds is:         50616\n",
      "Part 2: Current level of monkey business after 10000 rounds is:   11309046332\n"
     ]
    }
   ],
   "source": [
    "from collections import deque\n",
    "from functools import reduce \n",
    "\n",
    "class Monkey: \n",
    "    def __init__(self, items, operation, mod, t, f):\n",
    "        self.items          = items\n",
    "        self.operation      = operation\n",
    "        self.mod            = mod\n",
    "        self.toTrue         = t\n",
    "        self.toFalse        = f\n",
    "        self.inspectCount   = 0\n",
    "\n",
    "    def display(self):\n",
    "        print(f\" {self.items} \\n  {self.operation} \\t %{self.mod} \\t ({self.toTrue}, {self.toFalse}) {self.inspectCount:12} inspections\")\n",
    "\n",
    "def yieldTroop():\n",
    "    global input\n",
    "    M = []\n",
    "    for i in range(1, len(input), 7):\n",
    "        it = deque([int(a.strip(',')) for a in input[i].split(\" \")[4:]])\n",
    "        op = input[i+1].split(\" \")[6:8]\n",
    "        md = int(input[i+2].split(\" \")[-1])\n",
    "        t =  int(input[i+3].split(\" \")[-1])\n",
    "        f = int(input[i+4].split(\" \")[-1])\n",
    "        M.append(Monkey(it, op, md, t, f))\n",
    "    return M\n",
    "\n",
    "def displayTroop(list_of_monkeys):\n",
    "    for idx, val in enumerate(list_of_monkeys):\n",
    "        print(f\"{idx}: \", end=\"\")\n",
    "        val.display()\n",
    "    print()\n",
    "\n",
    "def main(part):\n",
    "    monkeys = yieldTroop()\n",
    "    modulus = reduce(lambda a,b : a * b, [monkey.mod for monkey in monkeys])\n",
    "    for _ in range(0, (20 if part == 1 else 10000 if part == 2 else 0)):\n",
    "        for m in monkeys:\n",
    "            for j in range(len(m.items)):\n",
    "                curr_item = m.items.popleft()\n",
    "                m.inspectCount += 1\n",
    "                if m.operation[1] == \"old\":\n",
    "                    if m.operation[0] == \"+\":      curr_item += curr_item\n",
    "                    elif m.operation[0] == \"*\":    curr_item *= curr_item\n",
    "                elif m.operation[0] == \"+\":        curr_item += int(m.operation[1])\n",
    "                elif m.operation[0] == \"*\":        curr_item *= int(m.operation[1])\n",
    "                curr_item = curr_item // 3 if part == 1 else curr_item % modulus\n",
    "                if (curr_item % m.mod) == 0:       monkeys[m.toTrue ].items.append(curr_item)\n",
    "                else:                              monkeys[m.toFalse].items.append(curr_item)\n",
    "    return reduce(lambda a,b :a * b, sorted([m.inspectCount for m in monkeys])[-2:])\n",
    "\n",
    "with open(\"aoc_11_input.txt\", \"r\") as f:\n",
    "    input = f.read().splitlines()\n",
    "    \n",
    "print(f\"Part 1: Current level of monkey business after    20 rounds is: {main(1):13}\")\n",
    "print(f\"Part 2: Current level of monkey business after 10000 rounds is: {main(2):13}\")"
   ]
  }
 ],
 "metadata": {
  "kernelspec": {
   "display_name": "Python 3",
   "language": "python",
   "name": "python3"
  },
  "language_info": {
   "codemirror_mode": {
    "name": "ipython",
    "version": 3
   },
   "file_extension": ".py",
   "mimetype": "text/x-python",
   "name": "python",
   "nbconvert_exporter": "python",
   "pygments_lexer": "ipython3",
   "version": "3.11.1"
  },
  "orig_nbformat": 4,
  "vscode": {
   "interpreter": {
    "hash": "d01e1b6807cdc6c73188860b94d3a57f012fc5e069ee56fb893a142c4a2f0812"
   }
  }
 },
 "nbformat": 4,
 "nbformat_minor": 2
}
