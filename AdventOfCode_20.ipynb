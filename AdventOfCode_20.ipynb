{
 "cells": [
  {
   "attachments": {},
   "cell_type": "markdown",
   "metadata": {},
   "source": [
    "### Day 20 - Grove Positioning System\n",
    "##### Part 1\n",
    "\n",
    "Decrypt the file with mixing."
   ]
  },
  {
   "cell_type": "code",
   "execution_count": 220,
   "metadata": {},
   "outputs": [],
   "source": [
    "# Let's try linked lists instead.\n",
    "class ListNode:\n",
    "    def __init__(self, num: int) -> None:\n",
    "        self.val = num\n",
    "        self.next = None\n",
    "        self.prev = None\n",
    "        \n",
    "    def copy(self):\n",
    "        cp = ListNode(self.val)\n",
    "        cp.next = self.next\n",
    "        cp.prev = self.prev\n",
    "        return cp\n",
    "    \n",
    "class DoublyLinkedList:\n",
    "    def __init__(self, data : list[int]):\n",
    "        if not data:\n",
    "            return\n",
    "        self.head = ListNode(data[0])\n",
    "        L = 1\n",
    "        curr = self.head\n",
    "        for d in data[1:]:\n",
    "            L += 1\n",
    "            new_node = ListNode(d)\n",
    "            curr.next = new_node\n",
    "            new_node.prev = curr\n",
    "            curr = curr.next    \n",
    "        self.length = L\n",
    "        self.tail = curr\n",
    "\n",
    "    def __iter__(self):\n",
    "        if self.head:\n",
    "            yield self.head\n",
    "            node = self.head.next\n",
    "            while node and node != self.head:\n",
    "                yield node\n",
    "                node = node.next\n",
    "\n",
    "    \n",
    "    def stitch(self, node):\n",
    "        if node == self.head:\n",
    "            self.head = node.next\n",
    "            self.head.prev = None\n",
    "\n",
    "        elif node == self.tail:\n",
    "            pretail = self.tail.prev\n",
    "            pretail.next = None\n",
    "            self.tail = pretail\n",
    "        else:\n",
    "            prenode = node.prev\n",
    "            postnode = node.next\n",
    "            prenode.next = postnode\n",
    "            postnode.prev = prenode\n",
    "            \n",
    "        node.next = None\n",
    "        node.prev = None\n",
    "        return node\n",
    "\n",
    "    def insert(self, cream, oreo):\n",
    "        if oreo == self.tail:\n",
    "            cream.prev = self.tail\n",
    "            cream.next = None\n",
    "            self.tail.next = cream\n",
    "            self.tail = cream\n",
    "        else:\n",
    "            oreo2 = oreo.next\n",
    "            oreo.next = cream\n",
    "            cream.prev = oreo\n",
    "            cream.next = oreo2\n",
    "            oreo2.prev = cream\n",
    "\n",
    "    def traverse(self, node, distance):\n",
    "        for _ in range(distance):\n",
    "            node = node.next\n",
    "            if node == None:\n",
    "                node = self.head\n",
    "        return node\n",
    "\n",
    "    def mix(self, node):\n",
    "        if node.val == 0:\n",
    "            return\n",
    "        move = ((self.length + node.val - 1) % (self.length-1)) if node.val < 0 else ((node.val) % (self.length-1))\n",
    "        ptr = node.copy()\n",
    "        node = self.stitch(node)\n",
    "        for _ in range(move):\n",
    "            ptr = ptr.next\n",
    "            if ptr == None:\n",
    "                ptr = self.head\n",
    "\n",
    "        self.insert(node, ptr)\n",
    "\n",
    "def decrypt_LL(input_file):\n",
    "    with open(input_file, \"r\") as f:\n",
    "        data = [int(x) for x in f.read().strip().split(\"\\n\")]\n",
    "\n",
    "    current_list = DoublyLinkedList(data)\n",
    "    order = [node for node in current_list]\n",
    "    n = len(data)\n",
    "\n",
    "    # Mix each value once.\n",
    "    for curr in order:\n",
    "        current_list.mix(curr)\n",
    "\n",
    "    # Traverse LL for unique 0 node.\n",
    "    curr = current_list.head\n",
    "    while curr.val != 0:\n",
    "        curr = curr.next\n",
    "\n",
    "    vals = sorted([1000 % n, 2000 % n, 3000 % n])\n",
    "    A = current_list.traverse(curr.copy(),  vals[0])\n",
    "    B = current_list.traverse(A.copy(),     vals[1] - vals[0]) \n",
    "    C = current_list.traverse(B.copy(),     vals[2] - vals[1])\n",
    "\n",
    "    return [A.val, B.val, C.val]\n",
    "\n",
    "    \n"
   ]
  },
  {
   "cell_type": "code",
   "execution_count": 221,
   "metadata": {},
   "outputs": [
    {
     "name": "stdout",
     "output_type": "stream",
     "text": [
      "Part 1: The sum of the three grove coordinates is 10707\n"
     ]
    }
   ],
   "source": [
    "#decrypt_LL(\"test.txt\")\n",
    "print(f\"Part 1: The sum of the three grove coordinates is {sum(decrypt_LL('aoc_20_input.txt'))}\")"
   ]
  },
  {
   "attachments": {},
   "cell_type": "markdown",
   "metadata": {},
   "source": [
    "##### Part 2 - Mix with Decryption Key\n",
    "\n",
    "Multiply each number by 811_589_153 before starting.\n",
    "Mix the numbers 10 times. "
   ]
  },
  {
   "cell_type": "code",
   "execution_count": 223,
   "metadata": {},
   "outputs": [],
   "source": [
    "def decrypt_p2(input_file):\n",
    "    with open(input_file, \"r\") as f:\n",
    "        data = [(811_589_153 * int(x)) for x in f.read().strip().split(\"\\n\")]\n",
    "\n",
    "    p2LL = DoublyLinkedList(data)\n",
    "    order = [node for node in p2LL]\n",
    "    n = len(data)\n",
    "\n",
    "    # Mix each value once, ten times in a row\n",
    "    for _ in range(10):\n",
    "        for curr in order:\n",
    "            p2LL.mix(curr)\n",
    "\n",
    "    # Traverse LL for unique 0 node.\n",
    "    curr = p2LL.head\n",
    "    while curr.val != 0:\n",
    "        curr = curr.next\n",
    "\n",
    "    vals = sorted([1000 % n, 2000 % n, 3000 % n])\n",
    "    A = p2LL.traverse(curr.copy(),  vals[0])\n",
    "    B = p2LL.traverse(A.copy(),     vals[1] - vals[0]) \n",
    "    C = p2LL.traverse(B.copy(),     vals[2] - vals[1])\n",
    "\n",
    "    return [A.val, B.val, C.val]"
   ]
  },
  {
   "cell_type": "code",
   "execution_count": 226,
   "metadata": {},
   "outputs": [
    {
     "name": "stdout",
     "output_type": "stream",
     "text": [
      "Part 2: The sum of the three grove coordinates after applying the decryption key and mixing ten times is 2488332343098\n"
     ]
    }
   ],
   "source": [
    "print(f\"Part 2: The sum of the three grove coordinates after applying the decryption key and mixing ten times is {sum(decrypt_p2('aoc_20_input.txt'))}\")"
   ]
  }
 ],
 "metadata": {
  "kernelspec": {
   "display_name": "Python 3",
   "language": "python",
   "name": "python3"
  },
  "language_info": {
   "codemirror_mode": {
    "name": "ipython",
    "version": 3
   },
   "file_extension": ".py",
   "mimetype": "text/x-python",
   "name": "python",
   "nbconvert_exporter": "python",
   "pygments_lexer": "ipython3",
   "version": "3.11.1"
  },
  "orig_nbformat": 4,
  "vscode": {
   "interpreter": {
    "hash": "d01e1b6807cdc6c73188860b94d3a57f012fc5e069ee56fb893a142c4a2f0812"
   }
  }
 },
 "nbformat": 4,
 "nbformat_minor": 2
}
