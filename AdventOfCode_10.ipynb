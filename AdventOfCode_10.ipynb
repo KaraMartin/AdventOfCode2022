{
 "cells": [
  {
   "attachments": {},
   "cell_type": "markdown",
   "metadata": {},
   "source": [
    "### Day 10 - Cathode-Ray Tube\n",
    "\n",
    "What is the sum of the signal strengths on the 20th, 60th, 100th, 140th, 180th, and 220th cycles?\n",
    "\n",
    "Signal strength = cycle number * value in X register"
   ]
  },
  {
   "cell_type": "code",
   "execution_count": 82,
   "metadata": {},
   "outputs": [
    {
     "name": "stdout",
     "output_type": "stream",
     "text": [
      "         0 +  20 *   17   =     340      ==>     340     \n",
      "       340 +  60 *   12   =     720      ==>     1060    \n",
      "      1060 + 100 *   34   =     3400     ==>     4460    \n",
      "      4460 + 140 *   30   =     4200     ==>     8660    \n",
      "      8660 + 180 *   7    =     1260     ==>     9920    \n",
      "      9920 + 220 *   21   =     4620     ==>    14540    \n",
      "The result after 220 cycles is 14540.\n"
     ]
    }
   ],
   "source": [
    "import numpy as np\n",
    "\n",
    "with open(\"aoc_10_input.txt\", \"r\") as f:\n",
    "    instructions_raw = f.read().strip().split(\"\\n\")\n",
    "\n",
    "instructions_processed = list(map(lambda b : '.' if b[0] == \"noop\" else int(b[1]), map(lambda a : a.split(\" \"), instructions_raw)))\n",
    "register_X = 1\n",
    "result = 0\n",
    "cycle = 1\n",
    "\n",
    "def checkCycle(res):\n",
    "    global cycle\n",
    "    cycle += 1\n",
    "    if cycle > 220: \n",
    "        return res\n",
    "    if (cycle % 40) == 20:\n",
    "        print(f\"{result:10} + {cycle:3} * {register_X:^6} = {cycle * register_X :^12} ==> {result + cycle * register_X:^12}\")\n",
    "        return res + cycle * register_X\n",
    "    return res\n",
    "\n",
    "\n",
    "for idx, val in enumerate(instructions_processed):\n",
    "    # ohhhhh... remembering how cycles work\n",
    "    #print(f\"Cycle # {cycle} \\t X : {registers[0]} \\t next val: {val}\")\n",
    "    if val == '.':\n",
    "        result = checkCycle(result)\n",
    "    else:\n",
    "        result = checkCycle(result)\n",
    "        register_X += val\n",
    "        result = checkCycle(result)\n",
    "    if cycle > 220: \n",
    "        break\n",
    "\n",
    "print(f\"The result after 220 cycles is {result}.\")\n"
   ]
  },
  {
   "cell_type": "code",
   "execution_count": 176,
   "metadata": {},
   "outputs": [
    {
     "name": "stdout",
     "output_type": "stream",
     "text": [
      "████ █  █ ████ ████ ████ █  █  ██  ████ \n",
      "█    █  █    █ █       █ █  █ █  █    █ \n",
      "███  ████   █  ███    █  ████ █      █  \n",
      "█    █  █  █   █     █   █  █ █     █   \n",
      "█    █  █ █    █    █    █  █ █  █ █    \n",
      "████ █  █ ████ █    ████ █  █  ██  ████ \n"
     ]
    }
   ],
   "source": [
    "# Version that computes everything all at once.\n",
    "\n",
    "register_X = 1\n",
    "cycle = 0\n",
    "crt_width = 40\n",
    "crt_height = 6\n",
    "CRT = []\n",
    "\n",
    "def checkPixel():\n",
    "    global cycle\n",
    "    if abs(register_X - (cycle % crt_width)) <= 1:     CRT.append(\"█\")\n",
    "    else:                                       CRT.append(\" \")\n",
    "    cycle += 1\n",
    "\n",
    "checkPixel()\n",
    "for idx, val in enumerate(instructions_processed):\n",
    "    #sprite_pos = \"\".join(list(['.' * (register_X - 1), '###', '.' * (crt_width - register_X - 1)]))\n",
    "    #print(f\"Sprite Position: {sprite_pos} \\t {len(sprite_pos)}\")\n",
    "\n",
    "    checkPixel()\n",
    "    if val != '.':\n",
    "        register_X += val\n",
    "        checkPixel()\n",
    "\n",
    "    if cycle > crt_height * crt_width: \n",
    "        break\n",
    "\n",
    "for i in range(0, crt_height * crt_width, crt_width):\n",
    "    print(f\"{''.join(CRT[i : i + crt_width])}\")\n"
   ]
  },
  {
   "cell_type": "code",
   "execution_count": 177,
   "metadata": {},
   "outputs": [
    {
     "name": "stdout",
     "output_type": "stream",
     "text": [
      "████ █  █ ████ ████ ████ █  █  ██  ████ \n",
      "█    █  █    █ █       █ █  █ █  █    █ \n",
      "███  ████   █  ███    █  ████ █      █  \n",
      "█    █  █  █   █     █   █  █ █     █   \n",
      "█    █  █ █    █    █    █  █ █  █ █    \n",
      "████ █  █ ████ █    ████ █  █  ██  ████ \n",
      " "
     ]
    }
   ],
   "source": [
    "# Version that prints each character as it evaluates it.\n",
    "\n",
    "register_X = 1\n",
    "cycle = 0\n",
    "crt_width = 40\n",
    "crt_height = 6\n",
    "sprite_width = 1\n",
    "\n",
    "def checkPixel():\n",
    "    global cycle\n",
    "    remainder = cycle % crt_width\n",
    "    if abs(register_X - remainder) <= sprite_width:         \n",
    "        print(\"█\", end=\"\")\n",
    "    else:                                                   \n",
    "        print(\" \", end=\"\")\n",
    "\n",
    "    cycle += 1\n",
    "    if remainder == crt_width - 1:\n",
    "        print()\n",
    "\n",
    "checkPixel()\n",
    "for idx, val in enumerate(instructions_processed):\n",
    "    checkPixel()\n",
    "    if val != '.':\n",
    "        register_X += val\n",
    "        checkPixel()\n"
   ]
  }
 ],
 "metadata": {
  "kernelspec": {
   "display_name": "Python 3",
   "language": "python",
   "name": "python3"
  },
  "language_info": {
   "codemirror_mode": {
    "name": "ipython",
    "version": 3
   },
   "file_extension": ".py",
   "mimetype": "text/x-python",
   "name": "python",
   "nbconvert_exporter": "python",
   "pygments_lexer": "ipython3",
   "version": "3.11.1"
  },
  "orig_nbformat": 4,
  "vscode": {
   "interpreter": {
    "hash": "d01e1b6807cdc6c73188860b94d3a57f012fc5e069ee56fb893a142c4a2f0812"
   }
  }
 },
 "nbformat": 4,
 "nbformat_minor": 2
}
