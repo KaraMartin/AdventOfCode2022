{
 "cells": [
  {
   "attachments": {},
   "cell_type": "markdown",
   "metadata": {},
   "source": [
    "### Day 9 - Rope Bridge\n",
    "##### Part 1\n",
    "\n",
    "There is a rope with a head knot and a tail knot. The head moves and the tail follows according to these rules:\n",
    "- H and T must always be touching (diagonally touching and overlapping okay).\n",
    "- If H is 2 steps up, down, left, or right the tail must move one step in that direction.\n",
    "- If H and T aren't touching and aren't in the same row or column, the tail will move one step diagonally to keep up.\n",
    "\n",
    "Assume H and T start in the same position (overlapping). Given a series of motions that H makes, count how many positions T visits at least once."
   ]
  },
  {
   "cell_type": "code",
   "execution_count": 6,
   "metadata": {},
   "outputs": [],
   "source": [
    "with open(\"aoc_09_input.txt\", \"r\") as f:\n",
    "    # direction is always 1 character but we cannot assume the number will be < 10 \n",
    "    head_instructions = [[line[0], int(line.split(\" \")[1])] for line in f.read().strip().split(\"\\n\")]"
   ]
  },
  {
   "cell_type": "code",
   "execution_count": 7,
   "metadata": {},
   "outputs": [
    {
     "name": "stdout",
     "output_type": "stream",
     "text": [
      "The tail knot visits 6030 unique spaces!\n"
     ]
    }
   ],
   "source": [
    "import numpy as np\n",
    "\n",
    "visited = {(0,0)}\n",
    "h_pos = np.array([0,0])\n",
    "t_pos = np.array([0,0])\n",
    "directions = {\"R\": [0, 1], \"L\": [0, -1], \"U\": [-1, 0], \"D\": [1, 0] }\n",
    "\n",
    "for inst in head_instructions:\n",
    "    for _ in range(inst[1]):\n",
    "        vector = directions[inst[0]]\n",
    "        h_pos += vector\n",
    "        diff_vert   = h_pos[0] - t_pos[0] \n",
    "        diff_hor    = h_pos[1] - t_pos[1]\n",
    "\n",
    "        if abs(diff_hor) + abs(diff_vert) >= 2: \n",
    "            if abs(diff_hor) == 1 and abs(diff_vert) == 1:\n",
    "                continue\n",
    "            \n",
    "            # update T_pos in straight line\n",
    "            if diff_hor == 0 or diff_vert == 0:\n",
    "                t_pos += vector\n",
    "\n",
    "            # update in diagonal direction\n",
    "            else:   \n",
    "                delta_hor  = -1 if diff_hor  < 0 else 1\n",
    "                delta_vert = -1 if diff_vert < 0 else 1\n",
    "                t_pos += [delta_vert, delta_hor]\n",
    "            visited.add(tuple(t_pos))\n",
    "print(f\"The tail knot visits {len(visited)} unique spaces!\")"
   ]
  },
  {
   "attachments": {},
   "cell_type": "markdown",
   "metadata": {},
   "source": [
    "##### Part 2 - A Rope Snaps!\n",
    "\n",
    "A rope with 10 knots instead of 2. How many spaces does the last knot travel into?"
   ]
  },
  {
   "cell_type": "code",
   "execution_count": 8,
   "metadata": {},
   "outputs": [
    {
     "name": "stdout",
     "output_type": "stream",
     "text": [
      "The tail knot visits 2545 unique spaces!\n"
     ]
    }
   ],
   "source": [
    "number_of_knots = 10\n",
    "visited = {(0,0)}\n",
    "knot_pos = [[0,0] for _ in range(number_of_knots)]\n",
    "directions = {\"R\": [0, 1], \"L\": [0, -1], \"U\": [-1, 0], \"D\": [1, 0] }\n",
    "\n",
    "for inst in head_instructions:\n",
    "    for _ in range(inst[1]):\n",
    "        # Head movement according to instruction\n",
    "        vector = directions[inst[0]]\n",
    "        knot_pos[0][0] += vector[0]\n",
    "        knot_pos[0][1] += vector[1]\n",
    "\n",
    "        for i in range(1, number_of_knots):\n",
    "            diff_vert  = knot_pos[i-1][0] - knot_pos[i][0] \n",
    "            diff_hor   = knot_pos[i-1][1] - knot_pos[i][1]\n",
    "\n",
    "            if abs(diff_hor) + abs(diff_vert) >= 2: \n",
    "                if (abs(diff_vert) == 1 and abs(diff_hor) == 1 ):\n",
    "                    break\n",
    "                delta_hor  = -1 if diff_hor  < 0 else 1\n",
    "                delta_vert = -1 if diff_vert < 0 else 1\n",
    "                if diff_hor == 0:       knot_pos[i][0] += delta_vert\n",
    "                elif diff_vert == 0:    knot_pos[i][1] += delta_hor\n",
    "                else:   \n",
    "                    knot_pos[i][0] += delta_vert\n",
    "                    knot_pos[i][1] += delta_hor    \n",
    "                if i == 9:\n",
    "                    #print(knot_pos[9], end=\" --> \")\n",
    "                    visited.add(tuple(knot_pos[9]))\n",
    "\n",
    "print(f\"The tail knot visits {len(visited)} unique spaces!\")"
   ]
  },
  {
   "cell_type": "code",
   "execution_count": 9,
   "metadata": {},
   "outputs": [
    {
     "name": "stdout",
     "output_type": "stream",
     "text": [
      "The tail knot visits 2545 unique spaces!\n"
     ]
    }
   ],
   "source": [
    "# This cell uses numpy arrays to simplify several lines.\n",
    "\n",
    "number_of_knots = 10\n",
    "visited = {(0,0)}\n",
    "knot_pos = np.array([[0,0] for _ in range(number_of_knots)])\n",
    "directions = {\"R\": [0, 1], \"L\": [0, -1], \"U\": [-1, 0], \"D\": [1, 0] }\n",
    "\n",
    "for inst in head_instructions:\n",
    "    for _ in range(inst[1]):\n",
    "        vector = directions[inst[0]]\n",
    "        knot_pos[0] += vector\n",
    "\n",
    "        for i in range(1, number_of_knots):\n",
    "            diff_vert  = knot_pos[i-1][0] - knot_pos[i][0] \n",
    "            diff_hor   = knot_pos[i-1][1] - knot_pos[i][1]\n",
    "\n",
    "            if abs(diff_hor) + abs(diff_vert) >= 2: \n",
    "                if abs(diff_vert) == 1 and abs(diff_hor) == 1:\n",
    "                    break\n",
    "                \n",
    "                if diff_hor == 0:       \n",
    "                    knot_pos[i][0] += -1 if diff_vert < 0 else 1\n",
    "                elif diff_vert == 0:    \n",
    "                    knot_pos[i][1] += -1 if diff_hor  < 0 else 1\n",
    "                else:   \n",
    "                    knot_pos[i][0] += -1 if diff_vert < 0 else 1\n",
    "                    knot_pos[i][1] += -1 if diff_hor  < 0 else 1\n",
    "                      \n",
    "                if i == 9:\n",
    "                    visited.add(tuple(knot_pos[9]))\n",
    "\n",
    "print(f\"The tail knot visits {len(visited)} unique spaces!\")"
   ]
  }
 ],
 "metadata": {
  "kernelspec": {
   "display_name": "Python 3",
   "language": "python",
   "name": "python3"
  },
  "language_info": {
   "codemirror_mode": {
    "name": "ipython",
    "version": 3
   },
   "file_extension": ".py",
   "mimetype": "text/x-python",
   "name": "python",
   "nbconvert_exporter": "python",
   "pygments_lexer": "ipython3",
   "version": "3.11.1"
  },
  "orig_nbformat": 4,
  "vscode": {
   "interpreter": {
    "hash": "d01e1b6807cdc6c73188860b94d3a57f012fc5e069ee56fb893a142c4a2f0812"
   }
  }
 },
 "nbformat": 4,
 "nbformat_minor": 2
}
