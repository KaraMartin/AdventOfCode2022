{
 "cells": [
  {
   "cell_type": "markdown",
   "metadata": {},
   "source": [
    "### Day 7 - No Space Left On Device\n",
    "##### Part 1 - Dictionary Sums\n",
    "Find all directories in the filesystem with a total size of at most 100000.\n",
    "\n",
    "What is the sum of the total sizes of those directories?\n",
    "\n",
    "Note: directory names are repeated in the input."
   ]
  },
  {
   "cell_type": "code",
   "execution_count": 135,
   "metadata": {},
   "outputs": [
    {
     "name": "stdout",
     "output_type": "stream",
     "text": [
      "Total is : 40217484 [this is not correct need to debug]\n"
     ]
    }
   ],
   "source": [
    "# First try, not very fruitful but got to play around with it.\n",
    "\n",
    "from collections import defaultdict\n",
    "max_size = 100000\n",
    "with open(\"aoc_07_input.txt\", \"r\") as f:\n",
    "    lines = f.readlines()\n",
    "    relationships = defaultdict(list)\n",
    "    sizes = defaultdict(lambda : 0)\n",
    "    too_big = set()\n",
    "    currentPath = []\n",
    "    root = \"/\"\n",
    "    \n",
    "    for instruction in lines[1:-1]:\n",
    "        curr = instruction[:-1].split(\" \")\n",
    "        \n",
    "        if curr[0] == \"$\":\n",
    "            if curr[1] == \"cd\":\n",
    "                if curr[2] == \"..\":     \n",
    "                    currentPath.pop(-1)                 \n",
    "                else:                   \n",
    "                    currentPath.append(curr[2])\n",
    "            continue\n",
    "\n",
    "        parent = root + \"/\".join(currentPath)\n",
    "        if curr[0] == \"dir\":\n",
    "            if len(currentPath) > 0:    \n",
    "                child = \"/\".join([parent, curr[1]])\n",
    "            else:                       \n",
    "                child =  \"\".join([parent, curr[1]])\n",
    "            relationships[parent].append(child)\n",
    "        else:\n",
    "            sizes[parent] += int(curr[0])\n",
    "\n",
    "        \n",
    "final_result = 0\n",
    "def dfs(current_directory : str) -> int:\n",
    "    global final_result\n",
    "\n",
    "    res = sizes[current_directory]\n",
    "\n",
    "    if relationships[current_directory] == []:\n",
    "        if res <= max_size:\n",
    "            #print(f\"{res:10}\\t{current_directory}\")\n",
    "            final_result += res\n",
    "        return res\n",
    "\n",
    "    for child in relationships[current_directory]:\n",
    "        res += dfs(child)\n",
    "\n",
    "    if res <= max_size:\n",
    "        #print(f\"{res:10}\\t{current_directory}\")\n",
    "        final_result += res\n",
    "    return res\n",
    "\n",
    "print(f\"Total is : {dfs('/')} [this is not correct need to debug]\")\n",
    "\n",
    "#for a in [f\"{sizes[s]:10}\\t{s}\" for s in sorted(list(sizes))][:15]:\n",
    "#    print(a)\n",
    "\n"
   ]
  },
  {
   "cell_type": "code",
   "execution_count": 136,
   "metadata": {},
   "outputs": [
    {
     "name": "stdout",
     "output_type": "stream",
     "text": [
      "All directories of size <= 100000 sum to 1432936 units.\n"
     ]
    }
   ],
   "source": [
    "# Second attempt, came back with a clear head and started over from beginning. \n",
    "\n",
    "from collections import defaultdict\n",
    "from functools import reduce\n",
    "\n",
    "with open(\"aoc_07_input.txt\", \"r\") as f:\n",
    "    data = f.read().strip()\n",
    "    sizes = defaultdict(int)\n",
    "    path = [\"/\"]\n",
    "\n",
    "    for line in data[1:].split(\"\\n\"):\n",
    "        if line.startswith(\"$ cd\"):\n",
    "            dir = line.split()[2]\n",
    "            if dir == \"..\":\n",
    "                last_dir = path.pop(-1)\n",
    "            else:\n",
    "                path.append(f\"{path[-1]}{'/' if path[-1] != '/' else ''}{dir}\")\n",
    "            #print(path)\n",
    "        elif line[0].isnumeric():\n",
    "            for p in path:\n",
    "                sizes[p] += int(line.split()[0])\n",
    "'''\n",
    "for s in sizes:\n",
    "    if sizes[s] <= max_size:\n",
    "        print(f\"{sizes[s]:15}\\t{s}\")\n",
    "'''\n",
    "res = reduce(lambda a, b : a + b, [s for s in sizes.values() if s <= max_size])\n",
    "print(f\"All directories of size <= {max_size} sum to {res} units.\")\n",
    "#print(f\"Size of root directory: {sizes['/']}\")"
   ]
  },
  {
   "cell_type": "markdown",
   "metadata": {},
   "source": [
    "### Day 7\n",
    "##### Part 2 - Smallest Directory to Delete\n",
    "\n",
    "Find the smallest directory that, if deleted, would free up enough space on the filesystem to run the update.\n",
    "\n",
    "What is the total size of that directory?"
   ]
  },
  {
   "cell_type": "code",
   "execution_count": 137,
   "metadata": {},
   "outputs": [
    {
     "name": "stdout",
     "output_type": "stream",
     "text": [
      "Size of root directory: 40268565\n",
      "We need to free up 268565 units of space.\n",
      "Size of smallest directory to delete: 272298\n"
     ]
    }
   ],
   "source": [
    "''' \n",
    "The total disk space available to the filesystem is 70000000. \n",
    "To run the update, you need unused space of at least 30000000. \n",
    "You need to find a directory you can delete that will free up enough space to run the update.\n",
    "'''\n",
    "\n",
    "print(f\"Size of root directory: {sizes['/']}\")\n",
    "min_size_needed = 30000000 - (70000000 - sizes['/'])\n",
    "print(f\"We need to free up {min_size_needed} units of space.\")\n",
    "print(f\"Size of smallest directory to delete: {min(s for s in sizes.values() if s >= min_size_needed)}\")"
   ]
  }
 ],
 "metadata": {
  "kernelspec": {
   "display_name": "Python 3",
   "language": "python",
   "name": "python3"
  },
  "language_info": {
   "codemirror_mode": {
    "name": "ipython",
    "version": 3
   },
   "file_extension": ".py",
   "mimetype": "text/x-python",
   "name": "python",
   "nbconvert_exporter": "python",
   "pygments_lexer": "ipython3",
   "version": "3.11.1 (tags/v3.11.1:a7a450f, Dec  6 2022, 19:58:39) [MSC v.1934 64 bit (AMD64)]"
  },
  "orig_nbformat": 4,
  "vscode": {
   "interpreter": {
    "hash": "d01e1b6807cdc6c73188860b94d3a57f012fc5e069ee56fb893a142c4a2f0812"
   }
  }
 },
 "nbformat": 4,
 "nbformat_minor": 2
}
