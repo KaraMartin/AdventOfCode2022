{
 "cells": [
  {
   "attachments": {},
   "cell_type": "markdown",
   "metadata": {},
   "source": [
    "### Day 13 - Distress Signal\n",
    "##### Part 1\n",
    "\n",
    "Find how many pairs of packets are in the right order. Sum the indices of those packets."
   ]
  },
  {
   "cell_type": "code",
   "execution_count": 383,
   "metadata": {},
   "outputs": [
    {
     "name": "stdout",
     "output_type": "stream",
     "text": [
      "Total number of parsed packets: 150.\n"
     ]
    }
   ],
   "source": [
    "#with open(\"test.txt\", \"r\") as f:\n",
    "with open(\"aoc_13_input.txt\", \"r\") as f:\n",
    "    lines = f.read().strip().split(\"\\n\\n\")\n",
    "\n",
    "def new_process(input_list):\n",
    "    # simple cases: empty list or all numeric\n",
    "    if not input_list or input_list == str([]):  return []\n",
    "    if all([a.isnumeric() for a in set(input_list) - set(\",\")]):\n",
    "        print(f\"\\tnumeric {''.join(input_list).rstrip(',')}\")\n",
    "        nums = [int(a) for a in \"\".join(input_list).rstrip(',').split(\",\")]\n",
    "        return nums\n",
    "    \n",
    "    stack = []\n",
    "    for i, c in enumerate(input_list):\n",
    "        if c == \",\":                                            \n",
    "            stack.append(',')\n",
    "        elif c.isnumeric():\n",
    "            if stack[-1] == ',' and type(stack[-2]) == str:     \n",
    "                stack[-2] = int(stack[-2])\n",
    "            if stack[-1].isnumeric():                           \n",
    "                stack[-1] += c\n",
    "            else:                                               \n",
    "                stack.append(c)\n",
    "        elif c == \"[\":\n",
    "            if len(stack) > 1 and type(stack[-2]) == str and stack[-2].isnumeric():\n",
    "                stack[-2] = int(stack[-2])\n",
    "            stack.append(\"[\")\n",
    "        elif c == \"]\":\n",
    "            if type(stack[-1]) == str and stack[-1].isnumeric():\n",
    "                stack[-1] = int(stack[-1])\n",
    "            proc = [\"]\"]\n",
    "            while proc[-1] != \"[\":\n",
    "                proc.append(stack.pop())\n",
    "            stack.append(proc[1:-1:2][::-1])\n",
    "    return stack[0]\n",
    "\n",
    "data = []\n",
    "for line in lines:\n",
    "    A, B = line.split(\"\\n\")\n",
    "    a, b = new_process(A), new_process(B)\n",
    "    assert \"\".join(str(a)).replace(\" \", \"\") == A\n",
    "    assert \"\".join(str(b)).replace(\" \", \"\") == B\n",
    "    data.append([a,b])\n",
    "\n",
    "num_packets = len(lines)\n",
    "print(f\"Total number of parsed packets: {num_packets}.\")\n"
   ]
  },
  {
   "cell_type": "code",
   "execution_count": 384,
   "metadata": {},
   "outputs": [],
   "source": [
    "# Return meaning: \n",
    "#   0 : continue checking\n",
    "#   1 : right order\n",
    "#  -1 : wrong order\n",
    "def compare(A, B):\n",
    "    if type(A) == type(B) == int:       return 1 if A < B else -1 if A > B else 0\n",
    "    elif type(A) == type(B) == list:    return list_compare(A,B)    \n",
    "    elif type(A) == int:                return compare([A], B)\n",
    "    else:                               return compare(A, [B])\n",
    "    \n",
    "def list_compare(C, D):\n",
    "    L = min(len(C), len(D))\n",
    "    for i in range(L):\n",
    "        curr = compare(C[i], D[i])\n",
    "        if curr != 0:                   return curr\n",
    "    if len(C) < len(D):                 return 1\n",
    "    elif len(C) == len(D):              return 0\n",
    "    else:                               return -1"
   ]
  },
  {
   "cell_type": "code",
   "execution_count": 385,
   "metadata": {},
   "outputs": [
    {
     "name": "stdout",
     "output_type": "stream",
     "text": [
      "Part 1: The sum of all indices of pairs in the right order is: 6070\n"
     ]
    }
   ],
   "source": [
    "correct_indices = list(filter(lambda a : a > 0, [i if list_compare(d[0], d[1]) == 1 else 0 for i,d in enumerate(data, start=1)]))\n",
    "#print(f\"Correct indices: {correct_indices}\")\n",
    "print(f\"Part 1: The sum of all indices of pairs in the right order is: {sum(correct_indices)}\")"
   ]
  },
  {
   "attachments": {},
   "cell_type": "markdown",
   "metadata": {},
   "source": [
    "##### Part 2 - Divider Packets\n",
    "\n",
    "Adding in [[2]] and [[6]] as divider packets, organize all packets into the correct order. Multiply the indices of the divider packets to find and return the decoder key.\n"
   ]
  },
  {
   "cell_type": "code",
   "execution_count": 386,
   "metadata": {},
   "outputs": [
    {
     "name": "stdout",
     "output_type": "stream",
     "text": [
      "\t107: [[2]]\n",
      "\t194: [[6]]\n",
      "Part 2: The decoder key for this distress signal is: 107 * 194 = 20758\n"
     ]
    }
   ],
   "source": [
    "import functools \n",
    "\n",
    "sorted_packets = sorted([a for d in data for a in d] + [[[2]], [[6]]], key = functools.cmp_to_key(list_compare), reverse = True)\n",
    "first, second = sorted_packets.index([[2]]) + 1, sorted_packets.index([[6]]) + 1\n",
    "\n",
    "print(f\"\\t{first}: {sorted_packets[first - 1]}\")\n",
    "print(f\"\\t{second}: {sorted_packets[second - 1]}\")\n",
    "print(f\"Part 2: The decoder key for this distress signal is: {first} * {second} = {first * second}\")\n",
    "\n",
    "# 9240 too low"
   ]
  }
 ],
 "metadata": {
  "kernelspec": {
   "display_name": "Python 3",
   "language": "python",
   "name": "python3"
  },
  "language_info": {
   "codemirror_mode": {
    "name": "ipython",
    "version": 3
   },
   "file_extension": ".py",
   "mimetype": "text/x-python",
   "name": "python",
   "nbconvert_exporter": "python",
   "pygments_lexer": "ipython3",
   "version": "3.11.1"
  },
  "orig_nbformat": 4,
  "vscode": {
   "interpreter": {
    "hash": "d01e1b6807cdc6c73188860b94d3a57f012fc5e069ee56fb893a142c4a2f0812"
   }
  }
 },
 "nbformat": 4,
 "nbformat_minor": 2
}
