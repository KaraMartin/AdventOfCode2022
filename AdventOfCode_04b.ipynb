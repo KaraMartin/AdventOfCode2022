{
 "cells": [
  {
   "cell_type": "code",
   "execution_count": 1,
   "metadata": {},
   "outputs": [
    {
     "name": "stdout",
     "output_type": "stream",
     "text": [
      "Total overlapping ranges: 857\n"
     ]
    }
   ],
   "source": [
    "# Advent of Code Day 4 Part 2\n",
    "# Any pairs that overlap at all\n",
    "\n",
    "with open(\"aoc_04_input.txt\") as f:\n",
    "    lines = f.readlines()\n",
    "    \n",
    "res = 0\n",
    "\n",
    "for pair in [line[:-1].split(\",\") for line in lines]:\n",
    "    nums = list(map(int, pair[0].split('-') + pair[1].split('-')))\n",
    "    if (nums[2] <= nums[0] <= nums[3]) or (nums[2] <= nums[1] <= nums[3]):\n",
    "        res += 1\n",
    "    elif (nums[0] <= nums[2] <= nums[1]) or (nums[0] <= nums[3] <= nums[1]):\n",
    "        res += 1\n",
    "    \n",
    "print(f\"Total overlapping ranges: {res}\")\n",
    " \n",
    "\n"
   ]
  }
 ],
 "metadata": {
  "kernelspec": {
   "display_name": "Python 3.6.5 64-bit",
   "language": "python",
   "name": "python3"
  },
  "language_info": {
   "codemirror_mode": {
    "name": "ipython",
    "version": 3
   },
   "file_extension": ".py",
   "mimetype": "text/x-python",
   "name": "python",
   "nbconvert_exporter": "python",
   "pygments_lexer": "ipython3",
   "version": "3.6.5"
  },
  "orig_nbformat": 4,
  "vscode": {
   "interpreter": {
    "hash": "5e6e0c9936b56e864f646be5ee1805cdf5052e653df90de57851008508cfa8f6"
   }
  }
 },
 "nbformat": 4,
 "nbformat_minor": 2
}
