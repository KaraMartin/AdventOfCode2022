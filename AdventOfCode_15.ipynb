{
 "cells": [
  {
   "attachments": {},
   "cell_type": "markdown",
   "metadata": {},
   "source": [
    "### Day 15 - Beacon Exclusion Zone\n",
    "##### Part 1 - Beaconless positions on y = 2,000,000\n",
    "\n",
    "Find positions in row 2,000,000 that cannot contain a beacon according to the rules of this challenge."
   ]
  },
  {
   "cell_type": "code",
   "execution_count": 467,
   "metadata": {},
   "outputs": [],
   "source": [
    "def get_data(input_file):\n",
    "    with open(input_file, \"r\") as f:\n",
    "        lines = [a for b in f.read().strip().split(\"\\n\") for c in b.split(\":\") for a in c.split(\"=\")]\n",
    "    process_data = list(zip(list(map( lambda a : int(a.split(',')[0]), lines[1::3])), \\\n",
    "                          list(map( lambda a : int(a), lines[2::3]))))\n",
    "    return process_data[::2], process_data[1::2]\n",
    "\n",
    "dist = lambda ax, ay, bx, by : abs(ax - bx) + abs(ay - by)\n",
    "\n",
    "# Pretty print for our Part 1 result list - also for debugging.\n",
    "def ppres(r):\n",
    "    print(\"\\t210123456789a123456789b123\")\n",
    "    print(\"\\t\" + \"\".join(['.' if c == 0 else '#' for c in r]), len(r))\n"
   ]
  },
  {
   "cell_type": "code",
   "execution_count": 468,
   "metadata": {},
   "outputs": [],
   "source": [
    "def part1(sensors, beacons, target, candidates, beacons_on_target):\n",
    "    min_x = min([a[0] - dist(*a,*beacons[i]) for i,a in enumerate(sensors)])\n",
    "    max_x = max([a[0] + dist(*a,*beacons[i]) for i,a in enumerate(sensors)])\n",
    "    res = [0 for _ in range(min_x, max_x + 1)]\n",
    "    \n",
    "    for candidate in candidates:\n",
    "            # same line behavior\n",
    "        if candidate[0][1] == target:\n",
    "            offset = candidate[0][0] - min_x - candidate[2]\n",
    "            res = res[:offset] + [1 for _ in range((2 * candidate[2]) + 1)] + res[offset + (2 * candidate[2] + 1):]\n",
    "\n",
    "            # above/under\n",
    "        else:\n",
    "            diff = max(candidate[0][1], target) - min(candidate[0][1], target)\n",
    "            remaining = candidate[2] - diff\n",
    "            if remaining == 0:\n",
    "                res[candidate[0][0] - min_x] = 1\n",
    "            else:\n",
    "                offset = candidate[0][0] - min_x - remaining\n",
    "                res = res[:offset] + [1 for _ in range((2 * remaining) + 1)] + res[offset + (2 * remaining + 1):]\n",
    "                \n",
    "    # count impossible spaces minus known beacons \n",
    "    return res.count(1) - sum([res[b[0] - min_x] for b in beacons_on_target])"
   ]
  },
  {
   "cell_type": "code",
   "execution_count": 469,
   "metadata": {},
   "outputs": [
    {
     "name": "stdout",
     "output_type": "stream",
     "text": [
      "Part 1: For y = 2,000,000 there are 0 positions which cannot contain a beacon.\n"
     ]
    }
   ],
   "source": [
    "targ = 2_000_000\n",
    "input_sensors, input_beacons =  get_data('aoc_15_input.txt')\n",
    "candidate_sensors = list(filter( lambda a: targ - a[2] <= a[0][1] <= targ + a[2] , list(zip(input_sensors, input_beacons, [dist(*input_beacons[i], *input_beacons[i]) for i in range(len(input_sensors))] ))))\n",
    "target_beacons    = list(set([b for b in input_beacons if b[1] == targ]))\n",
    "print(f\"Part 1: For y = 2,000,000 there are {part1(input_sensors, input_beacons, targ, candidate_sensors, target_beacons)} positions which cannot contain a beacon.\")"
   ]
  },
  {
   "attachments": {},
   "cell_type": "markdown",
   "metadata": {},
   "source": [
    "##### Part 2 - Lone Unfound Beacon\n",
    "\n",
    "Find tuning frequency ( x * 4,000,000 + y ) of the last beacon, which is in the only space untouched by current assortment of beacons.\n"
   ]
  },
  {
   "cell_type": "code",
   "execution_count": 470,
   "metadata": {},
   "outputs": [],
   "source": [
    "# See hyper-neutrino video\n",
    "# https://www.youtube.com/watch?v=OG1QwJ2RKsU\n",
    "\n",
    "def part2(data, lb, ub):\n",
    "    for Y in range(lb, ub + 1):\n",
    "        intervals = []\n",
    "        for sx, sy, bx, by, d in data:\n",
    "            o = d - abs(sy - Y)\n",
    "            if o < 0:    continue\n",
    "            intervals.append((sx - o, sx + o))\n",
    "        intervals.sort()\n",
    "        q = []\n",
    "        for lo, hi in intervals:\n",
    "            if not q:\n",
    "                q.append([lo, hi])\n",
    "                continue\n",
    "            qlo, qhi = q[-1]\n",
    "            if lo > qhi + 1:        \n",
    "                return ((qhi + 1) * 4_000_000) + Y\n",
    "            q[-1][1] = max(qhi, hi)\n",
    "    return -1"
   ]
  },
  {
   "cell_type": "code",
   "execution_count": 471,
   "metadata": {},
   "outputs": [
    {
     "name": "stdout",
     "output_type": "stream",
     "text": [
      "Expected average time for randomizing order:   17.07\n",
      "Control average time (0 -> 4,000,000):         22.22\n",
      "Expected value for randomization:               5.14\n",
      "\n",
      "\t\t\tPart 2: The tuning frequency of the final distress beacon is 13081194638237.\n",
      "\n",
      "This run, the answer was in the 1st slice of size 500,000 slices.\n",
      "This saved approximately  20.64\n"
     ]
    }
   ],
   "source": [
    "from random import shuffle\n",
    "import timeit\n",
    "start_time = timeit.default_timer()\n",
    "\n",
    "# ~~~ Times, improvements\n",
    "#  * original                                      52.7s, 51.4s\n",
    "#  * memoize manhatten distance                 -> 26.7s\n",
    "#  * ignore negative intervals, bound intervals -> 29.2s, 31.4s\n",
    "#  * revert last change                         -> 23.2s, 22.8s\n",
    "#   okay so ... faster to just iterate thru final intervals\n",
    "#   than try to massage them to be nicer\n",
    "\n",
    "#  * after some misc cleanup avg is 27.5s\n",
    "#  * moving parameters around and cleanup       -> 21.4s, 22.1s, 22.1s, 23.6s\n",
    "#  * can end very minutely earlier              -> 21.4s, 22.7s\n",
    "#\n",
    "# Pretty happy with this!\n",
    "\n",
    "# UPPER BOUND = 4_000_000\n",
    "# seems likelier to be in the middle that near the edge so\n",
    "# check edges last - we only are in them 1/8 + 1/8 = 1/4 of the time\n",
    "# so we partition the space into 8 ranges\n",
    "# because getting a 1.5s hit some of the time is worth going from 22s to 30s sometimes\n",
    "\n",
    "#   0 : 1.6s\n",
    "#   1 : 6.9s\n",
    "#   2 : 9.8s\n",
    "#   3 : 14.7s\n",
    "#   4 : 19.3s\n",
    "#   5 : 23.4s  -- this is where we were hitting for all runs previously (since the position is fixed in the range)\n",
    "#   6 : 27.3s  <rare>\n",
    "#   7 : 33.6s  <rare>\n",
    "\n",
    "avg_time = sum([1.6, 6.9, 9.8, 14.7, 19.3, 23.4, 27.3, 33.6]) / 8\n",
    "control_time = sum([21.4, 22.1, 22.1, 23.6, 21.4, 22.7]) / 6\n",
    "print(f\"Expected average time for randomizing order:  {avg_time:6.2f}\")\n",
    "\n",
    "# %%%%%%% COME BACK AND FIX LATER (bayes thm, probability?)\n",
    "#print(f\"Expected avg time for random with edges last: {(sum([1.6, 6.9, 9.8, 14.7, 19.3, 23.4]) / 6) + sum([27.3, 33.6]) / 16:6.2f}\")\n",
    "# %%%%%%% COME BACK AND FIX LATER\n",
    "\n",
    "print(f\"Control average time (0 -> 4,000,000):        {control_time:6.2f}\")\n",
    "print(f\"Expected value for randomization:             {control_time - avg_time:6.2f}\")\n",
    "#print(f\"EV for edge last randomization:               {avg_time:6.2f}\")\n",
    "\n",
    "boundary_slices = [(500_000 * i, 500_000 * (i+1)) for i in range(1, 7)]\n",
    "shuffle(boundary_slices)\n",
    "boundary_slices += [(3_500_000, 4_000_000), (0, 500_000)]\n",
    "\n",
    "\n",
    "p2_data = [[s[0], s[1], input_beacons[i][0], input_beacons[i][1], dist(s[0], s[1], input_beacons[i][0], input_beacons[i][1])] for i,s in enumerate(input_sensors)]\n",
    "\n",
    "for i, (lower, upper) in enumerate(boundary_slices):\n",
    "    res = part2(p2_data, lower, upper)\n",
    "    if res != -1:\n",
    "        print(f\"\\n\\t\\t\\tPart 2: The tuning frequency of the final distress beacon is {res}.\\n\")\n",
    "        print(f\"This run, the answer was in the {i+1}{'th' if i+1 > 3 else 'st' if i == 0 else 'nd' if i == 1 else 'rd'} slice of size 500,000.\")\n",
    "        print(f\"This saved approximately {round(control_time, 2) - (round(timeit.default_timer() - start_time, 2)) : 6.2f}\")\n",
    "        break\n",
    "            \n"
   ]
  }
 ],
 "metadata": {
  "kernelspec": {
   "display_name": "Python 3",
   "language": "python",
   "name": "python3"
  },
  "language_info": {
   "codemirror_mode": {
    "name": "ipython",
    "version": 3
   },
   "file_extension": ".py",
   "mimetype": "text/x-python",
   "name": "python",
   "nbconvert_exporter": "python",
   "pygments_lexer": "ipython3",
   "version": "3.11.1"
  },
  "orig_nbformat": 4,
  "vscode": {
   "interpreter": {
    "hash": "d01e1b6807cdc6c73188860b94d3a57f012fc5e069ee56fb893a142c4a2f0812"
   }
  }
 },
 "nbformat": 4,
 "nbformat_minor": 2
}
