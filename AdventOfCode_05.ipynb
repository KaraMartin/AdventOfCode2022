{
 "cells": [
  {
   "cell_type": "markdown",
   "metadata": {},
   "source": [
    "### Day 5 - Supply Stacks\n",
    "##### Part 1 - CrateMover 9000\n",
    "The elves want to know which crate ends up on top of each stack. "
   ]
  },
  {
   "cell_type": "code",
   "execution_count": 23,
   "metadata": {},
   "outputs": [],
   "source": [
    "from collections import deque\n",
    "\n",
    "def read_drawing(input_lines):\n",
    "    st = [deque() for _ in range(10)]\n",
    "    for preamble_line in input_lines:\n",
    "        for i in range(1, len(preamble_line), 4):\n",
    "            if preamble_line[i] != \" \": \n",
    "                st[(i+3)//4].append(preamble_line[i])\n",
    "    return st\n",
    "\n",
    "def print_stacks(st):\n",
    "    for stack in st:\n",
    "        print(stack)\n",
    "    print()\n"
   ]
  },
  {
   "cell_type": "code",
   "execution_count": 24,
   "metadata": {},
   "outputs": [
    {
     "name": "stdout",
     "output_type": "stream",
     "text": [
      "[C] [F] [F] [H] [V] [V] [H] [N] [C] "
     ]
    }
   ],
   "source": [
    "def main():\n",
    "    line_break = 9\n",
    "    with open(\"aoc_05_input.txt\") as f:\n",
    "        lines = f.readlines()\n",
    "        stacks = read_drawing(lines[:line_break - 1])\n",
    "        for instruction in lines[line_break + 1:]:\n",
    "            quantity, origin, destination = map(int, instruction[:-1].split(\" \")[1::2])\n",
    "            stacks[destination].extendleft([stacks[origin].popleft() for _ in range(quantity)])\n",
    "        \n",
    "    for stack in stacks[1:]:\n",
    "        print(f\"[{stack.popleft()}]\", end=\" \")\n",
    "\n",
    "if __name__ == \"__main__\":\n",
    "    main()"
   ]
  },
  {
   "cell_type": "markdown",
   "metadata": {},
   "source": [
    "### Day 5 - Supply Stacks\n",
    "##### Part 2 - CrateMover 9001\n",
    "Now the order of moving multiple crates doesn't reverse."
   ]
  },
  {
   "cell_type": "code",
   "execution_count": 25,
   "metadata": {},
   "outputs": [
    {
     "name": "stdout",
     "output_type": "stream",
     "text": [
      "[F] [S] [Z] [W] [B] [P] [T] [B] [G] "
     ]
    }
   ],
   "source": [
    "def main():\n",
    "    line_break = 9\n",
    "    with open(\"aoc_05_input.txt\") as f:\n",
    "        lines = f.readlines()\n",
    "        stacks = read_drawing(lines[:line_break - 1])\n",
    "        for instruction in lines[line_break + 1:]:\n",
    "            quantity, origin, destination = map(int, instruction[:-1].split(\" \")[1::2])\n",
    "            stacks[destination].extendleft([stacks[origin].popleft() for _ in range(quantity)][::-1])\n",
    "        \n",
    "    for stack in stacks[1:]:\n",
    "        print(f\"[{stack.popleft()}]\", end=\" \")\n",
    "\n",
    "if __name__ == \"__main__\":\n",
    "    main()"
   ]
  }
 ],
 "metadata": {
  "kernelspec": {
   "display_name": "Python 3.6.5 64-bit",
   "language": "python",
   "name": "python3"
  },
  "language_info": {
   "codemirror_mode": {
    "name": "ipython",
    "version": 3
   },
   "file_extension": ".py",
   "mimetype": "text/x-python",
   "name": "python",
   "nbconvert_exporter": "python",
   "pygments_lexer": "ipython3",
   "version": "3.6.5"
  },
  "orig_nbformat": 4,
  "vscode": {
   "interpreter": {
    "hash": "5e6e0c9936b56e864f646be5ee1805cdf5052e653df90de57851008508cfa8f6"
   }
  }
 },
 "nbformat": 4,
 "nbformat_minor": 2
}
