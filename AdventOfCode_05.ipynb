{
 "cells": [
  {
   "attachments": {},
   "cell_type": "markdown",
   "metadata": {},
   "source": [
    "### Day 5 - Supply Stacks\n",
    "##### Part 1 - CrateMover 9000\n",
    "\n",
    "The elves want to know which crate ends up on top of each stack. \n",
    "\n",
    "##### Part 2 - CrateMover 9001\n",
    "Now the order of moving multiple crates doesn't reverse."
   ]
  },
  {
   "cell_type": "code",
   "execution_count": 15,
   "metadata": {},
   "outputs": [],
   "source": [
    "from collections import deque\n",
    "\n",
    "def read_drawing(input_lines):\n",
    "    st = [deque() for _ in range(10)]\n",
    "    for preamble_line in input_lines:\n",
    "        for i in range(1, len(preamble_line), 4):\n",
    "            if preamble_line[i] != \" \": \n",
    "                st[(i+3)//4].append(preamble_line[i])\n",
    "    return st\n",
    "\n",
    "def print_stacks(st):\n",
    "    for stack in st:\n",
    "        print(stack)\n",
    "    print()\n"
   ]
  },
  {
   "cell_type": "code",
   "execution_count": 16,
   "metadata": {},
   "outputs": [
    {
     "name": "stdout",
     "output_type": "stream",
     "text": [
      "Part 1: \t[C] [F] [F] [H] [V] [V] [H] [N] [C] \n",
      "Part 2: \t[F] [S] [Z] [W] [B] [P] [T] [B] [G] "
     ]
    }
   ],
   "source": [
    "def day05(reverseFlag : bool) :\n",
    "    line_break = 9\n",
    "    with open(\"aoc_05_input.txt\") as f:\n",
    "        lines = f.readlines()\n",
    "        stacks = read_drawing(lines[:line_break - 1])\n",
    "        for instruction in lines[line_break + 1:]:\n",
    "            quantity, origin, destination = map(int, instruction[:-1].split(\" \")[1::2])\n",
    "            if reverseFlag:\n",
    "                stacks[destination].extendleft([stacks[origin].popleft() for _ in range(quantity)][::-1])\n",
    "            else:\n",
    "                stacks[destination].extendleft([stacks[origin].popleft() for _ in range(quantity)])\n",
    "        \n",
    "    for stack in stacks[1:]:\n",
    "        print(f\"[{stack.popleft()}]\", end=\" \")\n",
    "\n",
    "if __name__ == \"__main__\":\n",
    "    print(f\"Part 1: \\t\", end=\"\")\n",
    "    day05(False)\n",
    "    print(f\"\\nPart 2: \\t\", end=\"\")\n",
    "    day05(True)\n",
    "    "
   ]
  }
 ],
 "metadata": {
  "kernelspec": {
   "display_name": "Python 3",
   "language": "python",
   "name": "python3"
  },
  "language_info": {
   "codemirror_mode": {
    "name": "ipython",
    "version": 3
   },
   "file_extension": ".py",
   "mimetype": "text/x-python",
   "name": "python",
   "nbconvert_exporter": "python",
   "pygments_lexer": "ipython3",
   "version": "3.11.1 (tags/v3.11.1:a7a450f, Dec  6 2022, 19:58:39) [MSC v.1934 64 bit (AMD64)]"
  },
  "orig_nbformat": 4,
  "vscode": {
   "interpreter": {
    "hash": "d01e1b6807cdc6c73188860b94d3a57f012fc5e069ee56fb893a142c4a2f0812"
   }
  }
 },
 "nbformat": 4,
 "nbformat_minor": 2
}
