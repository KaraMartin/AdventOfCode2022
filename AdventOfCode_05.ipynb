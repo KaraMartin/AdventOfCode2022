{
 "cells": [
  {
   "cell_type": "markdown",
   "metadata": {},
   "source": [
    "# Day 5 - Supply Stacks\n",
    "# Part 1\n",
    "The elves want to know which crate ends up on top of each stack. "
   ]
  },
  {
   "cell_type": "code",
   "execution_count": 40,
   "metadata": {},
   "outputs": [
    {
     "name": "stdout",
     "output_type": "stream",
     "text": [
      "[C] [F] [F] [H] [V] [V] [H] [N] [C] "
     ]
    }
   ],
   "source": [
    "from collections import deque\n",
    "stacks = [deque() for _ in range(10)]\n",
    "line_break = 9\n",
    "with open(\"aoc_05_input.txt\") as f:\n",
    "    lines = f.readlines()\n",
    "    for preamble_line in lines[:line_break - 1]:\n",
    "        for i in range(1, len(preamble_line), 4):\n",
    "            if preamble_line[i] != \" \": \n",
    "                stacks[(i+3)//4].append(preamble_line[i])\n",
    "    \n",
    "    for instruction in lines[line_break+1:]:\n",
    "        break_apart = instruction[:-1].split(\" \")\n",
    "        quantity, origin, destination = map(int, break_apart[1::2])\n",
    "        temp = []\n",
    "        for _ in range(quantity):\n",
    "            temp.append(stacks[origin].popleft())\n",
    "        stacks[destination].extendleft(temp)\n",
    "    \n",
    "    for stack in stacks[1:]:\n",
    "        print(f\"[{stack.popleft()}]\", end=\" \")"
   ]
  }
 ],
 "metadata": {
  "kernelspec": {
   "display_name": "Python 3.6.5 64-bit",
   "language": "python",
   "name": "python3"
  },
  "language_info": {
   "codemirror_mode": {
    "name": "ipython",
    "version": 3
   },
   "file_extension": ".py",
   "mimetype": "text/x-python",
   "name": "python",
   "nbconvert_exporter": "python",
   "pygments_lexer": "ipython3",
   "version": "3.6.5"
  },
  "orig_nbformat": 4,
  "vscode": {
   "interpreter": {
    "hash": "5e6e0c9936b56e864f646be5ee1805cdf5052e653df90de57851008508cfa8f6"
   }
  }
 },
 "nbformat": 4,
 "nbformat_minor": 2
}
