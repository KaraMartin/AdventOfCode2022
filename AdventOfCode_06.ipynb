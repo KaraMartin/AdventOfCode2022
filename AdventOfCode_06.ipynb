{
 "cells": [
  {
   "attachments": {},
   "cell_type": "markdown",
   "metadata": {},
   "source": [
    "### Advent of Code - Day 6\n",
    "##### Part 1 - Tuning Trouble\n",
    "\n",
    "Find index of first character different from previous 4.\n",
    "\n",
    "##### Part 2 : 4 --> 14\n",
    "Find index of first character different from previous 14."
   ]
  },
  {
   "cell_type": "code",
   "execution_count": 14,
   "metadata": {},
   "outputs": [
    {
     "name": "stdout",
     "output_type": "stream",
     "text": [
      "1723\n"
     ]
    }
   ],
   "source": [
    "def main():\n",
    "    # With sets\n",
    "    with open(\"aoc_06_input.txt\", \"r\") as f:\n",
    "        chars = f.readline()\n",
    "        curr = chars[:4]\n",
    "        if len(curr) == len(set(curr)): return 4\n",
    "        for idx, val in enumerate(chars[4:], start = 4):\n",
    "            curr = curr[1:] + val\n",
    "            if len(set(curr)) == 4:\n",
    "                print(idx + 1)\n",
    "                return\n",
    "\n",
    "if __name__ == \"__main__\":\n",
    "    main()"
   ]
  },
  {
   "cell_type": "code",
   "execution_count": 1,
   "metadata": {},
   "outputs": [
    {
     "name": "stdout",
     "output_type": "stream",
     "text": [
      "First unique   4 digit sequence at index    1723\n",
      "First unique  14 digit sequence at index    3708\n"
     ]
    }
   ],
   "source": [
    "from collections import Counter\n",
    "def day06(width):\n",
    "    with open(\"aoc_06_input.txt\", \"r\") as f:\n",
    "        chars = f.readline()\n",
    "        box = Counter(chars[:width])\n",
    "        for idx, val in enumerate(chars[width:], start = width):            \n",
    "            if len(box.keys()) == width:\n",
    "                print(f\"First unique {width:3} digit sequence at index {idx:7}\")\n",
    "                return\n",
    "            prev = chars[idx-width]\n",
    "            if box[prev] == 1:\n",
    "                del box[prev]\n",
    "            else:\n",
    "                box[prev] -= 1\n",
    "            box[val] += 1\n",
    "\n",
    "\n",
    "day06(4)\n",
    "day06(14)\n",
    "    "
   ]
  }
 ],
 "metadata": {
  "kernelspec": {
   "display_name": "Python 3",
   "language": "python",
   "name": "python3"
  },
  "language_info": {
   "codemirror_mode": {
    "name": "ipython",
    "version": 3
   },
   "file_extension": ".py",
   "mimetype": "text/x-python",
   "name": "python",
   "nbconvert_exporter": "python",
   "pygments_lexer": "ipython3",
   "version": "3.11.1"
  },
  "orig_nbformat": 4,
  "vscode": {
   "interpreter": {
    "hash": "d01e1b6807cdc6c73188860b94d3a57f012fc5e069ee56fb893a142c4a2f0812"
   }
  }
 },
 "nbformat": 4,
 "nbformat_minor": 2
}
