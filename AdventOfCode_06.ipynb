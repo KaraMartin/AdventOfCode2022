{
 "cells": [
  {
   "cell_type": "markdown",
   "metadata": {},
   "source": [
    "### Advent of Code - Day 6\n",
    "##### Part 1 - Tuning Trouble\n",
    "Find index of first character different from previous 4."
   ]
  },
  {
   "cell_type": "code",
   "execution_count": 14,
   "metadata": {},
   "outputs": [
    {
     "name": "stdout",
     "output_type": "stream",
     "text": [
      "1723\n"
     ]
    }
   ],
   "source": [
    "def main():\n",
    "    # With sets\n",
    "    with open(\"aoc_06_input.txt\", \"r\") as f:\n",
    "        chars = f.readline()\n",
    "        curr = chars[:4]\n",
    "        if len(curr) == len(set(curr)): return 4\n",
    "        for idx, val in enumerate(chars[4:], start = 4):\n",
    "            curr = curr[1:] + val\n",
    "            if len(set(curr)) == 4:\n",
    "                print(idx + 1)\n",
    "                return\n",
    "\n",
    "if __name__ == \"__main__\":\n",
    "    main()"
   ]
  },
  {
   "cell_type": "code",
   "execution_count": 16,
   "metadata": {},
   "outputs": [
    {
     "name": "stdout",
     "output_type": "stream",
     "text": [
      "First unique 4 digit sequence at 1723\n"
     ]
    }
   ],
   "source": [
    "from collections import Counter\n",
    "def main():\n",
    "    # Using collections.Counter\n",
    "    with open(\"aoc_06_input.txt\", \"r\") as f:\n",
    "        chars = f.readline()\n",
    "        box = Counter(chars[:4])\n",
    "        for idx, val in enumerate(chars[4:], start = 4):            \n",
    "            if len(box.keys()) == 4:\n",
    "                print(f\"First unique 4 digit sequence at {idx}\")\n",
    "                return\n",
    "            if box[chars[idx-4]] == 1:\n",
    "                del box[chars[idx-4]]\n",
    "            else:\n",
    "                box[chars[idx-4]] -= 1\n",
    "            box[val] += 1\n",
    "\n",
    "\n",
    "if __name__ == \"__main__\":\n",
    "    main()"
   ]
  },
  {
   "cell_type": "markdown",
   "metadata": {},
   "source": [
    "### Advent of Code - Day 6\n",
    "##### Part 2 - 4->14\n",
    "Find index of first character different from previous 14."
   ]
  },
  {
   "cell_type": "code",
   "execution_count": 17,
   "metadata": {},
   "outputs": [
    {
     "name": "stdout",
     "output_type": "stream",
     "text": [
      "First unique 14 digit sequence at 3708\n"
     ]
    }
   ],
   "source": [
    "from collections import Counter\n",
    "def main():\n",
    "    # Using collections.Counter\n",
    "    width = 14\n",
    "    with open(\"aoc_06_input.txt\", \"r\") as f:\n",
    "        chars = f.readline()\n",
    "        box = Counter(chars[:width])\n",
    "        for idx, val in enumerate(chars[width:], start = width):            \n",
    "            if len(box.keys()) == width:\n",
    "                print(f\"First unique {width} digit sequence at {idx}\")\n",
    "                return\n",
    "            prev = chars[idx-width]\n",
    "            if box[prev] == 1:\n",
    "                del box[prev]\n",
    "            else:\n",
    "                box[prev] -= 1\n",
    "            box[val] += 1\n",
    "\n",
    "\n",
    "if __name__ == \"__main__\":\n",
    "    main()"
   ]
  }
 ],
 "metadata": {
  "kernelspec": {
   "display_name": "Python 3.6.5 64-bit",
   "language": "python",
   "name": "python3"
  },
  "language_info": {
   "codemirror_mode": {
    "name": "ipython",
    "version": 3
   },
   "file_extension": ".py",
   "mimetype": "text/x-python",
   "name": "python",
   "nbconvert_exporter": "python",
   "pygments_lexer": "ipython3",
   "version": "3.6.5"
  },
  "orig_nbformat": 4,
  "vscode": {
   "interpreter": {
    "hash": "5e6e0c9936b56e864f646be5ee1805cdf5052e653df90de57851008508cfa8f6"
   }
  }
 },
 "nbformat": 4,
 "nbformat_minor": 2
}
